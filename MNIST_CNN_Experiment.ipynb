{
  "cells": [
    {
      "cell_type": "markdown",
      "metadata": {
        "id": "2VY9KmoTOTgx"
      },
      "source": [
        "# Using a convolutional neural network (CNN) to classify images of fashion objects"
      ]
    },
    {
      "cell_type": "markdown",
      "metadata": {
        "id": "GzELOjmUpskW"
      },
      "source": [
        "This notebook will implement a pre-existing CNN architecture developed for MNIST on the fashion-MNIST dataset, which contains photos of tops, trousers, pullovers, dresses, coats, sandals, shirts, sneakers, bags, and boots. There are 60,000 training observations and 10,000 test observations, each of which corresponds to a 28x28 pixel image with 1 of the 10 potential labels listed above.\n",
        "\n",
        "After implementing the pre-existing architecture on the new dataset, the alterations of the architecture will be tested in a factorial experiment exploring how batch size, number of features, and filter size impact training time and test accuracy."
      ]
    },
    {
      "cell_type": "code",
      "execution_count": 2,
      "metadata": {
        "id": "rMVd1noivzKf"
      },
      "outputs": [],
      "source": [
        "import pathlib\n",
        "import time\n",
        "\n",
        "import ipywidgets\n",
        "import matplotlib.pyplot as plt\n",
        "import numpy as np\n",
        "import polars as pl\n",
        "import seaborn as sns\n",
        "from sklearn.model_selection import train_test_split\n",
        "import torch\n",
        "import torch.nn as nn\n",
        "import torch.optim as optim\n",
        "from torch.utils.data import DataLoader, Dataset\n",
        "from tqdm.auto import tqdm\n",
        "from math import floor"
      ]
    },
    {
      "cell_type": "code",
      "execution_count": 3,
      "metadata": {
        "colab": {
          "base_uri": "https://localhost:8080/"
        },
        "id": "Jh-8lDjbNnm5",
        "outputId": "cf5e86ad-27e1-431f-da3d-61c8b0d4bfc3"
      },
      "outputs": [
        {
          "output_type": "stream",
          "name": "stdout",
          "text": [
            "Mounted at /content/drive\n"
          ]
        }
      ],
      "source": [
        "from google.colab import drive\n",
        "drive.mount('/content/drive')"
      ]
    },
    {
      "cell_type": "code",
      "execution_count": 4,
      "metadata": {
        "id": "pFGFFDPJNoL1"
      },
      "outputs": [],
      "source": [
        "train_filepath = pathlib.Path('drive/My Drive/fashion_mnist_data/fashion-mnist_train.csv')\n",
        "test_filepath = pathlib.Path('drive/My Drive/fashion_mnist_data/fashion-mnist_test.csv')"
      ]
    },
    {
      "cell_type": "markdown",
      "metadata": {
        "id": "t2Fc94o-OP1J"
      },
      "source": [
        "## Implementing pre-existing architecture without changes"
      ]
    },
    {
      "cell_type": "markdown",
      "metadata": {
        "id": "S-rNH4P3ZvES"
      },
      "source": [
        "To obtain a baseline of how the pre-existing architecture performs on the fashion-MNIST dataset, the code in this section will:\n",
        "\n",
        "1.   Define a class for the MNIST dataset\n",
        "2.   Read the train and test data, splitting the training data into validation and training\n",
        "3. Define a class for the simple CNN architecture\n",
        "4. Set parameters including batch size, number of epochs, and learning rate\n",
        "5. Train and test the model, using GPU if available\n",
        "\n"
      ]
    },
    {
      "cell_type": "markdown",
      "source": [
        "The first step"
      ],
      "metadata": {
        "id": "eR5LPePfhuin"
      }
    },
    {
      "cell_type": "code",
      "execution_count": 11,
      "metadata": {
        "id": "_H21xru1OVtL"
      },
      "outputs": [],
      "source": [
        "#Define custom class for MNIST dataset\n",
        "class MNISTDataset(Dataset):\n",
        "    def __init__(self, features, targets):\n",
        "        self.features = features\n",
        "        self.targets = targets\n",
        "\n",
        "    def __len__(self):\n",
        "        return len(self.features)\n",
        "\n",
        "    def __getitem__(self, idx):\n",
        "        image = self.features[idx].reshape(28, 28).astype('float32')\n",
        "        label = self.targets[idx].astype('float32')\n",
        "        return torch.tensor(image), torch.tensor(label)"
      ]
    },
    {
      "cell_type": "code",
      "execution_count": 12,
      "metadata": {
        "id": "jZyjA4xMOaBS"
      },
      "outputs": [],
      "source": [
        "#Read in training and testing data, splitting training data into training and validation sets\n",
        "train_data = pl.read_csv(\n",
        "    train_filepath\n",
        ")\n",
        "\n",
        "train_labels = train_data['label'].cast(pl.Int32).to_dummies()\n",
        "train_features = train_data.drop('label')\n",
        "\n",
        "X_train_val = train_features.to_numpy()\n",
        "Y_train_val = train_labels.to_numpy()\n",
        "\n",
        "X_train, X_val, Y_train, Y_val = train_test_split(\n",
        "    X_train_val,\n",
        "    Y_train_val,\n",
        "    test_size=0.20,\n",
        "    random_state=42,\n",
        ")\n",
        "\n",
        "test_data = pl.read_csv(\n",
        "    test_filepath\n",
        ")\n",
        "\n",
        "test_labels = train_data['label'].cast(pl.Int32).to_dummies()\n",
        "test_features = train_data.drop('label')\n",
        "\n",
        "X_test = test_features.to_numpy()\n",
        "Y_test = test_labels.to_numpy()\n",
        "\n",
        "#Use custom class to create MNIST dataset objects for the training, validation, and test sets\n",
        "train_dataset = MNISTDataset(X_train, Y_train)\n",
        "val_dataset = MNISTDataset(X_val, Y_val)\n",
        "test_dataset = MNISTDataset(X_test, Y_test)"
      ]
    },
    {
      "cell_type": "code",
      "execution_count": 6,
      "metadata": {
        "id": "fHyCELtXSPMG"
      },
      "outputs": [],
      "source": [
        "#Define custom class with pre-existing CNN architecture from MNIST model\n",
        "class SimpleCNN(nn.Module):\n",
        "    def __init__(self):\n",
        "        super(SimpleCNN, self).__init__()\n",
        "        self.conv1 = nn.Conv2d(in_channels=1, out_channels=32, kernel_size=3)\n",
        "        self.relu1 = nn.ReLU()\n",
        "        self.pool1 = nn.MaxPool2d(2, 2)\n",
        "        self.conv2 = nn.Conv2d(in_channels=32, out_channels=64, kernel_size=3)\n",
        "        self.relu2 = nn.ReLU()\n",
        "        self.pool2 = nn.MaxPool2d(2, 2)\n",
        "        self.fc1 = nn.Linear(64 * 5 * 5, 128)\n",
        "        self.relufc = nn.ReLU()\n",
        "        self.fc2 = nn.Linear(128, 10)\n",
        "\n",
        "\n",
        "    def forward(self, x):\n",
        "        x = self.conv1(x)\n",
        "        x = self.relu1(x)\n",
        "        x = self.pool1(x)\n",
        "        x = self.conv2(x)\n",
        "        x = self.relu2(x)\n",
        "        x = self.pool2(x)\n",
        "        x = x.view(-1, 64 * 5 * 5)\n",
        "        x = self.fc1(x)\n",
        "        x = self.relufc(x)\n",
        "        x = self.fc2(x)\n",
        "        return x"
      ]
    },
    {
      "cell_type": "code",
      "execution_count": 7,
      "metadata": {
        "id": "JEJTVsdvSSG9"
      },
      "outputs": [],
      "source": [
        "#Set parameters for training the model\n",
        "num_epochs = 5\n",
        "batch_size = 64\n",
        "learning_rate = 0.001"
      ]
    },
    {
      "cell_type": "code",
      "execution_count": 13,
      "metadata": {
        "id": "WXKGjc7GUa2A"
      },
      "outputs": [],
      "source": [
        "#Create dataloaders for each of the datasets created above\n",
        "train_loader = DataLoader(\n",
        "    dataset=train_dataset,\n",
        "    batch_size=batch_size,\n",
        "    shuffle=True,\n",
        ")\n",
        "val_loader = DataLoader(\n",
        "    dataset=val_dataset,\n",
        "    batch_size=batch_size,\n",
        "    shuffle=False,\n",
        ")\n",
        "test_loader = DataLoader(\n",
        "    dataset=test_dataset,\n",
        "    batch_size=batch_size,\n",
        "    shuffle=False,\n",
        ")"
      ]
    },
    {
      "cell_type": "code",
      "execution_count": 15,
      "metadata": {
        "colab": {
          "base_uri": "https://localhost:8080/",
          "height": 233
        },
        "id": "ADuyXGqkSaa-",
        "outputId": "5509b6fe-06e3-4384-eb38-3c12757c9de4"
      },
      "outputs": [
        {
          "output_type": "stream",
          "name": "stdout",
          "text": [
            "Using device: cuda\n"
          ]
        },
        {
          "output_type": "error",
          "ename": "NameError",
          "evalue": "name 'SimpleCNN' is not defined",
          "traceback": [
            "\u001b[0;31m---------------------------------------------------------------------------\u001b[0m",
            "\u001b[0;31mNameError\u001b[0m                                 Traceback (most recent call last)",
            "\u001b[0;32m<ipython-input-15-5957f0b9bf78>\u001b[0m in \u001b[0;36m<cell line: 9>\u001b[0;34m()\u001b[0m\n\u001b[1;32m      7\u001b[0m     \u001b[0mtorch\u001b[0m\u001b[0;34m.\u001b[0m\u001b[0mcuda\u001b[0m\u001b[0;34m.\u001b[0m\u001b[0mmanual_seed\u001b[0m\u001b[0;34m(\u001b[0m\u001b[0;36m42\u001b[0m\u001b[0;34m)\u001b[0m\u001b[0;34m\u001b[0m\u001b[0;34m\u001b[0m\u001b[0m\n\u001b[1;32m      8\u001b[0m \u001b[0;34m\u001b[0m\u001b[0m\n\u001b[0;32m----> 9\u001b[0;31m \u001b[0mmodel\u001b[0m \u001b[0;34m=\u001b[0m \u001b[0mSimpleCNN\u001b[0m\u001b[0;34m(\u001b[0m\u001b[0;34m)\u001b[0m\u001b[0;34m.\u001b[0m\u001b[0mto\u001b[0m\u001b[0;34m(\u001b[0m\u001b[0mdevice\u001b[0m\u001b[0;34m)\u001b[0m\u001b[0;34m\u001b[0m\u001b[0;34m\u001b[0m\u001b[0m\n\u001b[0m\u001b[1;32m     10\u001b[0m \u001b[0mcriterion\u001b[0m \u001b[0;34m=\u001b[0m \u001b[0mnn\u001b[0m\u001b[0;34m.\u001b[0m\u001b[0mCrossEntropyLoss\u001b[0m\u001b[0;34m(\u001b[0m\u001b[0;34m)\u001b[0m\u001b[0;34m\u001b[0m\u001b[0;34m\u001b[0m\u001b[0m\n\u001b[1;32m     11\u001b[0m \u001b[0moptimizer\u001b[0m \u001b[0;34m=\u001b[0m \u001b[0moptim\u001b[0m\u001b[0;34m.\u001b[0m\u001b[0mAdam\u001b[0m\u001b[0;34m(\u001b[0m\u001b[0mmodel\u001b[0m\u001b[0;34m.\u001b[0m\u001b[0mparameters\u001b[0m\u001b[0;34m(\u001b[0m\u001b[0;34m)\u001b[0m\u001b[0;34m,\u001b[0m \u001b[0mlr\u001b[0m\u001b[0;34m=\u001b[0m\u001b[0mlearning_rate\u001b[0m\u001b[0;34m)\u001b[0m\u001b[0;34m\u001b[0m\u001b[0;34m\u001b[0m\u001b[0m\n",
            "\u001b[0;31mNameError\u001b[0m: name 'SimpleCNN' is not defined"
          ]
        }
      ],
      "source": [
        "#Train and test the simple CNN\n",
        "device = torch.device('cuda' if torch.cuda.is_available() else 'cpu')\n",
        "print(f\"Using device: {device}\")\n",
        "\n",
        "torch.manual_seed(0)\n",
        "if torch.cuda.is_available():\n",
        "    torch.cuda.manual_seed(42)\n",
        "\n",
        "model = SimpleCNN().to(device)\n",
        "criterion = nn.CrossEntropyLoss()\n",
        "optimizer = optim.Adam(model.parameters(), lr=learning_rate)\n",
        "\n",
        "start_time = time.time()\n",
        "\n",
        "training_history = []\n",
        "for epoch in range(num_epochs):\n",
        "    model.train()\n",
        "    running_training_loss = 0.0\n",
        "    for images, labels in train_loader:\n",
        "        images = images.unsqueeze(1).to(device)\n",
        "        labels = labels.to(device)\n",
        "        optimizer.zero_grad()\n",
        "        outputs = model(images)\n",
        "        loss = criterion(outputs, labels)\n",
        "        loss.backward()\n",
        "        optimizer.step()\n",
        "        running_training_loss += loss.item()\n",
        "\n",
        "    training_loss = running_training_loss / len(train_loader)\n",
        "    training_history.append({\n",
        "        'epoch': epoch+1,\n",
        "        'phase': 'Training',\n",
        "        'loss': training_loss\n",
        "    })\n",
        "\n",
        "    model.eval()\n",
        "    running_val_loss = 0.0\n",
        "    with torch.no_grad():\n",
        "        for images, labels in val_loader:\n",
        "            images = images.unsqueeze(1).to(device)\n",
        "            labels = labels.to(device)\n",
        "            outputs = model(images)\n",
        "            loss = criterion(outputs, labels)\n",
        "            running_val_loss += loss.item()\n",
        "\n",
        "    validation_loss = running_val_loss / len(val_loader)\n",
        "    training_history.append({\n",
        "        'epoch': epoch+1,\n",
        "        'phase': 'Validation',\n",
        "        'loss': validation_loss\n",
        "    })\n",
        "\n",
        "    print(f\"Epoch [{epoch+1}/{num_epochs}], Training Loss: {training_loss:.4f}, Validation Loss: {validation_loss:.4f}\")\n",
        "\n",
        "end_time = time.time()\n",
        "elapsed_time = end_time - start_time\n",
        "print(f'Training for {num_epochs} epochs took {elapsed_time:.2f} seconds.')\n",
        "\n",
        "model.eval()\n",
        "correct = 0\n",
        "total = 0\n",
        "with torch.no_grad():\n",
        "    for images, labels in test_loader:\n",
        "        images = images.unsqueeze(1).to(device)\n",
        "        labels = labels.to(device)\n",
        "        outputs = model(images)\n",
        "        _, predicted = torch.max(outputs.data, 1)\n",
        "        total += labels.size(0)\n",
        "        correct += (predicted == labels.argmax(axis=1)).sum().item()\n",
        "print(f\"Accuracy of the model on the test images: {100 * correct / total:.2f}%\")"
      ]
    },
    {
      "cell_type": "markdown",
      "metadata": {
        "id": "77U8F6NlaUhn"
      },
      "source": [
        "Using this architecture with no changes from how it was developed for MNIST, we were able to train a model with 5 epochs in just under 19 seconds which had an accuracy of 91.46% on the test images. This performance is comparable to the performance of the architecture on the original MNIST dataset with the same parameters used for training.\n",
        "\n"
      ]
    },
    {
      "cell_type": "markdown",
      "metadata": {
        "id": "n5lq5JbROWCS"
      },
      "source": [
        "## Experimenting with filter size, number of features, and batch size\n"
      ]
    },
    {
      "cell_type": "markdown",
      "source": [
        "In the original architecture above, we use a 3x3 filter size on the convolutional layers, 32 features in the first convolutional layer with 64 features in the second convolutional layer, and a batch size of 64. In the experiment below, we will test the impact of changes to the filter size, number of features, and batch size on the accuracy and training time of our CNN.\n",
        "\n",
        "Multiple values are tested for each of these aspects, resulting in a total of 18 different combinations.\n",
        "\n",
        "*   Filter sizes: 3x3, 5x5\n",
        "*   Numbers of features in first convolutional layer: 16, 32, 64\n",
        "*   Batch sizes: 32, 64, 128\n",
        "\n"
      ],
      "metadata": {
        "id": "MT_EsW8Tj_TM"
      }
    },
    {
      "cell_type": "markdown",
      "metadata": {
        "id": "ZvRLmEJEasmY"
      },
      "source": [
        "The first step in our experiment is to list all of the parameters we will test, allowing us to iterate through these lists later on to efficiently identify all possible combinations of parameters. The num_features_options list will refer specifically to the number of features in the first convolutional layer, as the second convolutional layer will always be encoded as 2 * this number as is the relationship in the original architecture."
      ]
    },
    {
      "cell_type": "code",
      "execution_count": 5,
      "metadata": {
        "id": "i-GBXlmjUnej"
      },
      "outputs": [],
      "source": [
        "#Create lists of possible parameters to include in experiment\n",
        "filter_size_options = [3,5]\n",
        "num_features_options = [16, 32, 64]\n",
        "batch_size_options = [32, 64, 128]"
      ]
    },
    {
      "cell_type": "code",
      "execution_count": 6,
      "metadata": {
        "id": "w1rwLiVZlu5d"
      },
      "outputs": [],
      "source": [
        "#Set stable training parameters\n",
        "num_epochs = 5\n",
        "learning_rate = 0.001"
      ]
    },
    {
      "cell_type": "markdown",
      "metadata": {
        "id": "EelHRxWObLxt"
      },
      "source": [
        "After preparing our parameter options, we need to do three things:\n",
        "\n",
        "\n",
        "\n",
        "1. Understand the relationship between our varying parameters and each layer of the CNN\n",
        "2. Create a system to collect the results of our experiment\n",
        "3. Run our experiment\n",
        "\n",
        "\n",
        "To understand the relationship between our varying parameters, we first revisit our original architecture. A few important things about the structure include:\n",
        "\n",
        "* The input is 28x28, as is the fashion-MNIST input\n",
        "* It has two convolutional layers, each of which is followed by a relu and a max pooling step using a 2x2 filter with stride 2\n",
        "* It has two flattened layers before the final output layer\n",
        "\n",
        "Considering this, our varying parameters in the experiment will have a complicated impact on many layers within the CNN. For example, if we change our filter size in the first convolutional layer from 3x3 to 5x5, we will have different dimensions on the input of our second convolutional layer and a different number of nodes in our flattening layer. So, while we can use largely the same code for this experiment as we did in our original implementation, we need to first define a function which will calculate the number of features and the dimensions of filters in each of our layers based on the parameters, so that we can use the output of this function to more efficientily create the custom CNN class for each step of our experiment.\n",
        "\n"
      ]
    },
    {
      "cell_type": "code",
      "execution_count": 7,
      "metadata": {
        "id": "vbgmmnmGdChU"
      },
      "outputs": [],
      "source": [
        "#Define function to calculate parameters of custom CNN class based on experimental parameters\n",
        "def calculate_experimental_parameters(num_features, filter_size):\n",
        "    conv1_num_features = num_features\n",
        "    conv2_num_features = 2 * conv1_num_features\n",
        "\n",
        "    conv1_out_filter_dimension = 28 - filter_size + 1\n",
        "    conv2_in_filter_dimension = conv1_out_filter_dimension // 2\n",
        "    conv2_out_filter_dimension = conv2_in_filter_dimension - filter_size + 1\n",
        "\n",
        "    flatten_layer_input = (floor((conv2_out_filter_dimension - 2) / 2) + 1) * (floor((conv2_out_filter_dimension - 2) / 2) + 1) * conv2_num_features\n",
        "\n",
        "    return conv1_num_features, conv2_num_features, conv1_out_filter_dimension, conv2_in_filter_dimension, conv2_out_filter_dimension, flatten_layer_input"
      ]
    },
    {
      "cell_type": "markdown",
      "metadata": {
        "id": "-USCkh0oeRRO"
      },
      "source": [
        "Now that we have a function to calculate the necessary information for defining our custom CNN classes, we have two remaining steps:\n",
        "\n",
        "2. Create a system to collect the results of our experiment\n",
        "3. Run our experiment\n",
        "\n",
        "We are interested in two things, training time and testing accuracy. To examine these, we can create two empty lists and append the training time and test accuracy for each stage of the experiment to these lists, allowing us to analyze them later on."
      ]
    },
    {
      "cell_type": "code",
      "source": [
        "#Create lists to collect results of each stage of experiment, as well as current hyperparameters\n",
        "train_times = []\n",
        "test_accuracies = []\n",
        "filter_size_byexperiment = []\n",
        "batch_size_byexperiment = []\n",
        "num_features_byexperiment = []"
      ],
      "metadata": {
        "id": "io0cFDotgLrS"
      },
      "execution_count": 8,
      "outputs": []
    },
    {
      "cell_type": "markdown",
      "source": [
        "Now that we have a plan to store the results, we can iterate through our lists of experimental parameters to create, train, and test our 18 different architectures."
      ],
      "metadata": {
        "id": "HlJhltZ3gL7B"
      }
    },
    {
      "cell_type": "code",
      "execution_count": 16,
      "metadata": {
        "id": "SgMu0nlVi60v"
      },
      "outputs": [],
      "source": [
        "#Iterate through experimental parameters and collect results\n",
        "for filter_size in filter_size_options:\n",
        "    for num_features in num_features_options:\n",
        "        for batch_size in batch_size_options:\n",
        "\n",
        "            #use function to calculate parameters for custom CNN class\n",
        "            conv1_num_features, conv2_num_features, conv1_out_filter_dimension, conv2_in_filter_dimension, conv2_out_filter_dimension, flatten_layer_input = calculate_experimental_parameters(num_features, filter_size)\n",
        "\n",
        "            #create the custom CNN with the parameters calculated above\n",
        "            class ExperimentalCNN(nn.Module):\n",
        "                  def __init__(self):\n",
        "                      super(ExperimentalCNN, self).__init__()\n",
        "                      self.conv1 = nn.Conv2d(in_channels=1, out_channels=conv1_num_features, kernel_size=filter_size)\n",
        "                      self.relu1 = nn.ReLU()\n",
        "                      self.pool1 = nn.MaxPool2d(2, 2)\n",
        "                      self.conv2 = nn.Conv2d(in_channels=conv1_num_features, out_channels=conv2_num_features, kernel_size=filter_size)\n",
        "                      self.relu2 = nn.ReLU()\n",
        "                      self.pool2 = nn.MaxPool2d(2, 2)\n",
        "                      self.fc1 = nn.Linear(flatten_layer_input, 128)\n",
        "                      self.relufc = nn.ReLU()\n",
        "                      self.fc2 = nn.Linear(128, 10)\n",
        "\n",
        "\n",
        "                  def forward(self, x):\n",
        "                      x = self.conv1(x)\n",
        "                      x = self.relu1(x)\n",
        "                      x = self.pool1(x)\n",
        "                      x = self.conv2(x)\n",
        "                      x = self.relu2(x)\n",
        "                      x = self.pool2(x)\n",
        "                      x = x.view(-1, flatten_layer_input)\n",
        "                      x = self.fc1(x)\n",
        "                      x = self.relufc(x)\n",
        "                      x = self.fc2(x)\n",
        "                      return x\n",
        "\n",
        "            #create the dataloaders\n",
        "            train_loader = DataLoader(\n",
        "                  dataset=train_dataset,\n",
        "                  batch_size=batch_size,\n",
        "                  shuffle=True,\n",
        "            )\n",
        "            val_loader = DataLoader(\n",
        "                dataset=val_dataset,\n",
        "                batch_size=batch_size,\n",
        "                shuffle=False,\n",
        "            )\n",
        "            test_loader = DataLoader(\n",
        "                dataset=test_dataset,\n",
        "                batch_size=batch_size,\n",
        "                shuffle=False,\n",
        "            )\n",
        "\n",
        "            #train the CNN (on a GPU if available)\n",
        "            torch.manual_seed(0)\n",
        "            if torch.cuda.is_available():\n",
        "                torch.cuda.manual_seed(42)\n",
        "\n",
        "            model = ExperimentalCNN().to(device)\n",
        "            criterion = nn.CrossEntropyLoss()\n",
        "            optimizer = optim.Adam(model.parameters(), lr=learning_rate)\n",
        "\n",
        "            start_time = time.time()\n",
        "\n",
        "            training_history = []\n",
        "            for epoch in range(num_epochs):\n",
        "                model.train()\n",
        "                running_training_loss = 0.0\n",
        "                for images, labels in train_loader:\n",
        "                    images = images.unsqueeze(1).to(device)\n",
        "                    labels = labels.to(device)\n",
        "                    optimizer.zero_grad()\n",
        "                    outputs = model(images)\n",
        "                    loss = criterion(outputs, labels)\n",
        "                    loss.backward()\n",
        "                    optimizer.step()\n",
        "                    running_training_loss += loss.item()\n",
        "\n",
        "                training_loss = running_training_loss / len(train_loader)\n",
        "                training_history.append({\n",
        "                    'epoch': epoch+1,\n",
        "                    'phase': 'Training',\n",
        "                    'loss': training_loss\n",
        "                })\n",
        "\n",
        "                model.eval()\n",
        "                running_val_loss = 0.0\n",
        "                with torch.no_grad():\n",
        "                    for images, labels in val_loader:\n",
        "                        images = images.unsqueeze(1).to(device)\n",
        "                        labels = labels.to(device)\n",
        "                        outputs = model(images)\n",
        "                        loss = criterion(outputs, labels)\n",
        "                        running_val_loss += loss.item()\n",
        "\n",
        "                validation_loss = running_val_loss / len(val_loader)\n",
        "                training_history.append({\n",
        "                    'epoch': epoch+1,\n",
        "                    'phase': 'Validation',\n",
        "                    'loss': validation_loss\n",
        "                })\n",
        "\n",
        "            end_time = time.time()\n",
        "            elapsed_time = end_time - start_time\n",
        "            train_times.append(elapsed_time)\n",
        "\n",
        "            #test the CNN\n",
        "            model.eval()\n",
        "            correct = 0\n",
        "            total = 0\n",
        "            with torch.no_grad():\n",
        "                for images, labels in test_loader:\n",
        "                    images = images.unsqueeze(1).to(device)\n",
        "                    labels = labels.to(device)\n",
        "                    outputs = model(images)\n",
        "                    _, predicted = torch.max(outputs.data, 1)\n",
        "                    total += labels.size(0)\n",
        "                    correct += (predicted == labels.argmax(axis=1)).sum().item()\n",
        "            test_accuracies.append(100 * correct / total)\n",
        "\n",
        "            #append current hyperparameters to lists\n",
        "            filter_size_byexperiment.append(filter_size)\n",
        "            batch_size_byexperiment.append(batch_size)\n",
        "            num_features_byexperiment.append(num_features)"
      ]
    },
    {
      "cell_type": "code",
      "source": [
        "#Join parameters and results into dataframe for analysis\n",
        "test_num = list(range(1,19))\n",
        "results = pl.DataFrame(\n",
        "    {\n",
        "        'test_number': test_num,\n",
        "        'filter_size': filter_size_byexperiment,\n",
        "        'num_features': num_features_byexperiment,\n",
        "        'batch_size': batch_size_byexperiment,\n",
        "        'test_accuracy': test_accuracies,\n",
        "        'train_time': train_times,\n",
        "    }\n",
        ")"
      ],
      "metadata": {
        "colab": {
          "base_uri": "https://localhost:8080/",
          "height": 443
        },
        "id": "dMbpDdhhcy7K",
        "outputId": "b02650a7-2252-4df0-a9a5-91d4a1d1244d"
      },
      "execution_count": 17,
      "outputs": [
        {
          "output_type": "execute_result",
          "data": {
            "text/plain": [
              "shape: (18, 6)\n",
              "┌─────────────┬─────────────┬──────────────┬────────────┬───────────────┬────────────┐\n",
              "│ test_number ┆ filter_size ┆ num_features ┆ batch_size ┆ test_accuracy ┆ train_time │\n",
              "│ ---         ┆ ---         ┆ ---          ┆ ---        ┆ ---           ┆ ---        │\n",
              "│ i64         ┆ i64         ┆ i64          ┆ i64        ┆ f64           ┆ f64        │\n",
              "╞═════════════╪═════════════╪══════════════╪════════════╪═══════════════╪════════════╡\n",
              "│ 1           ┆ 3           ┆ 16           ┆ 32         ┆ 91.313333     ┆ 27.563569  │\n",
              "│ 2           ┆ 3           ┆ 16           ┆ 64         ┆ 90.486667     ┆ 16.66248   │\n",
              "│ 3           ┆ 3           ┆ 16           ┆ 128        ┆ 91.175        ┆ 12.514294  │\n",
              "│ 4           ┆ 3           ┆ 32           ┆ 32         ┆ 91.208333     ┆ 33.625738  │\n",
              "│ 5           ┆ 3           ┆ 32           ┆ 64         ┆ 91.496667     ┆ 23.799502  │\n",
              "│ …           ┆ …           ┆ …            ┆ …          ┆ …             ┆ …          │\n",
              "│ 14          ┆ 5           ┆ 32           ┆ 64         ┆ 90.235        ┆ 17.521324  │\n",
              "│ 15          ┆ 5           ┆ 32           ┆ 128        ┆ 90.798333     ┆ 12.851968  │\n",
              "│ 16          ┆ 5           ┆ 64           ┆ 32         ┆ 89.85         ┆ 32.747236  │\n",
              "│ 17          ┆ 5           ┆ 64           ┆ 64         ┆ 90.321667     ┆ 25.034858  │\n",
              "│ 18          ┆ 5           ┆ 64           ┆ 128        ┆ 89.945        ┆ 19.159773  │\n",
              "└─────────────┴─────────────┴──────────────┴────────────┴───────────────┴────────────┘"
            ],
            "text/html": [
              "<div><style>\n",
              ".dataframe > thead > tr,\n",
              ".dataframe > tbody > tr {\n",
              "  text-align: right;\n",
              "  white-space: pre-wrap;\n",
              "}\n",
              "</style>\n",
              "<small>shape: (18, 6)</small><table border=\"1\" class=\"dataframe\"><thead><tr><th>test_number</th><th>filter_size</th><th>num_features</th><th>batch_size</th><th>test_accuracy</th><th>train_time</th></tr><tr><td>i64</td><td>i64</td><td>i64</td><td>i64</td><td>f64</td><td>f64</td></tr></thead><tbody><tr><td>1</td><td>3</td><td>16</td><td>32</td><td>91.313333</td><td>27.563569</td></tr><tr><td>2</td><td>3</td><td>16</td><td>64</td><td>90.486667</td><td>16.66248</td></tr><tr><td>3</td><td>3</td><td>16</td><td>128</td><td>91.175</td><td>12.514294</td></tr><tr><td>4</td><td>3</td><td>32</td><td>32</td><td>91.208333</td><td>33.625738</td></tr><tr><td>5</td><td>3</td><td>32</td><td>64</td><td>91.496667</td><td>23.799502</td></tr><tr><td>&hellip;</td><td>&hellip;</td><td>&hellip;</td><td>&hellip;</td><td>&hellip;</td><td>&hellip;</td></tr><tr><td>14</td><td>5</td><td>32</td><td>64</td><td>90.235</td><td>17.521324</td></tr><tr><td>15</td><td>5</td><td>32</td><td>128</td><td>90.798333</td><td>12.851968</td></tr><tr><td>16</td><td>5</td><td>64</td><td>32</td><td>89.85</td><td>32.747236</td></tr><tr><td>17</td><td>5</td><td>64</td><td>64</td><td>90.321667</td><td>25.034858</td></tr><tr><td>18</td><td>5</td><td>64</td><td>128</td><td>89.945</td><td>19.159773</td></tr></tbody></table></div>"
            ]
          },
          "metadata": {},
          "execution_count": 17
        }
      ]
    },
    {
      "cell_type": "markdown",
      "source": [
        "## Analyzing experimental results"
      ],
      "metadata": {
        "id": "Gp0e2tpdhHTZ"
      }
    },
    {
      "cell_type": "markdown",
      "source": [
        "To examine our experiments and determine the best hyperparameter combinations, we can create scatterplots which show both the training time and accuracy rates by test. Because the experiment was conducted using a set of nested loops, we know the patterns in which hyperparameters were used for which test. For example, there are two possible filter sizes, and this was the outermost loop in the experimental code. So, if there is a distinct difference between the first half of our experiments and the second half, that suggests that filter size may be the cause."
      ],
      "metadata": {
        "id": "RjAIp5nPtsoK"
      }
    },
    {
      "cell_type": "code",
      "execution_count": 28,
      "metadata": {
        "id": "zbvZAO3Mm468",
        "colab": {
          "base_uri": "https://localhost:8080/",
          "height": 564
        },
        "outputId": "fc14e2e9-3698-477b-8b2b-6070cd42f76a"
      },
      "outputs": [
        {
          "output_type": "display_data",
          "data": {
            "text/plain": [
              "<Figure size 1000x600 with 1 Axes>"
            ],
            "image/png": "[encoded data removed]"
          },
          "metadata": {}
        }
      ],
      "source": [
        "\n",
        "plt.figure(figsize=(10,6))\n",
        "plt.scatter(test_num, test_accuracies)\n",
        "plt.xticks(test_num)\n",
        "plt.xlabel('Experiment')\n",
        "plt.ylabel('Accuracy %')\n",
        "plt.title('Accuracy on Test Dataset by Experiment')\n",
        "\n",
        "plt.show()"
      ]
    },
    {
      "cell_type": "markdown",
      "source": [
        "While there does seem to be an overall negative trend across the experiments, we have to remember to consider them in groups based on the experimental parameters. If we take the first three experiments for an example, they have the same filter size (3x3) and the same number of features (16), but have batch sizes of 32, 64, and 128 respectively. Within this set, it seems the best accuracy came from the batch size of 64. If we look at the other triples such as experiments 4, 5, 6 and 7, 8, 9, this trend doesn't seem to be consistent. We might expect that smaller batch sizes would lead to higher accuracies by providing more opportunities for tuning, but the pattern is not strong.\n",
        "\n",
        "\n",
        "Looking next at numbers of features, we can group every third experiment together. For example, experiments 1, 4, and 7 will have the same filter size and batch size, but different numbers of features. In this specific group, there appears to be another trend where the largest number of features has the smallest accuracy. Out of experiments 1, 4, and 7, the latter had the lowest accuracy. Though in experiments 2, 5, and 8, the fifth experiment actually has the lowest accuracy, the eighth experiment returned similar results. To make more definitive conclusions about the relationship between number of features and accuracy, we would need to explore more options for number of features and create a larger set of experiments to consider.\n",
        "\n",
        "\n",
        "Looking next at filter size, we can compare the first half of experiments to the second half. These two sets of experiments seem to have similar shapes, with later experiments within each group having lower accuracies. The second set of experiments, using a filter size of 5x5, are generally lower than the first half, using a filter size of 3x3. This suggests that a smaller filter size leads to more accurate performance, which aligns with what we would expect since these filters work with more specificity and preserve a greater level of detail about their inputs.\n",
        "\n",
        "\n",
        "With this knowledge of filter sizes, and the observation that the first and second half of the experiments follow similar patterns, we can also incorporate our earlier observations about batch size and number of features to understand how these hyperparameters may influence each other. It seems that within a given filter size, it is ideal to have a smaller number of features, though we are unsure of what batch size would be ideal.\n",
        "\n",
        "\n",
        "To understand more thoroughly which hyperparameters are ideal, we can next examine their impact on training time."
      ],
      "metadata": {
        "id": "RjL-mWe8b1HM"
      }
    },
    {
      "cell_type": "code",
      "source": [
        "plt.figure(figsize=(10,6))\n",
        "plt.scatter(test_num, train_times)\n",
        "plt.xticks(test_num)\n",
        "plt.xlabel('Experiment')\n",
        "plt.ylabel('Training Time (seconds)')\n",
        "plt.title('Training Time by Experiment')\n",
        "\n",
        "plt.show()"
      ],
      "metadata": {
        "colab": {
          "base_uri": "https://localhost:8080/",
          "height": 564
        },
        "id": "QCXd_XXZn_Pv",
        "outputId": "78192e62-8516-420c-f875-43fd01dd0b8b"
      },
      "execution_count": 22,
      "outputs": [
        {
          "output_type": "display_data",
          "data": {
            "text/plain": [
              "<Figure size 1000x600 with 1 Axes>"
            ],
            "image/png": "[encoded data removed]"
          },
          "metadata": {}
        }
      ]
    },
    {
      "cell_type": "markdown",
      "source": [
        "In this plot, we immediately see a pattern that we can attribute to batch size. Within each set of 3 experiments where filter size and number of features are held constant, the fastest experiment was that which had the largest batch size. This makes sense, as completing each of our epochs would require fewer steps if we work with a larger batch size.\n",
        "\n",
        "\n",
        "Beyond this conclusion about batch size, it's difficult to identify strong relationships between training time and either filter size or number of features. However, we did have important observations about these two hyperparameters based on accuracy. Now, we can combine this with our insight on batch sizes and training time for a more complete image of hyperparameters for our CNN.\n",
        "\n",
        "\n",
        "To improve our accuracy, we want to use a smaller filter size with and a smaller number of features. To balance this with a short training time, we can select a larger batch size. The experiment with the smallest filter size (3), smallest number of features (16), and largest batch size (128) is experiment 3.\n",
        "\n",
        "\n",
        "Experiment 3 is not the most accurate experiment, nor is it the most efficient, but it does perform really well in both areas. Our ideal hyperparameters need to consider trade-offs between optimizing accuracy and optimizing training time in order to be computationally efficient and effective. If we chose simply based on accuracy, we'd have experiment 4, which our scatterplot shows clearly has one of the highest training times. If we chose simply based on training time, we'd have experiment 15, which is very average in terms of its accuracy. While more information about our goals with this task would help us understand the relative importance of accuracy and training time, it's important to note that we generally want to consider both metrics and look for a set of hyperparameters which do generally well in both, rather than really well in one metric and really poorly in another."
      ],
      "metadata": {
        "id": "40Y-WmA_oy3t"
      }
    }
  ],
  "metadata": {
    "accelerator": "GPU",
    "colab": {
      "gpuType": "T4",
      "provenance": []
    },
    "kernelspec": {
      "display_name": "Python 3",
      "name": "python3"
    },
    "language_info": {
      "name": "python"
    }
  },
  "nbformat": 4,
  "nbformat_minor": 0
}